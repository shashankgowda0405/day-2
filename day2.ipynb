{
 "cells": [
  {
   "cell_type": "code",
   "execution_count": 44,
   "id": "f3c7a16d-24da-4d1b-8b07-4eb11c4597c8",
   "metadata": {},
   "outputs": [],
   "source": [
    "#day\n",
    "f=[1,20,20,0,\"hello\"]"
   ]
  },
  {
   "cell_type": "code",
   "execution_count": 26,
   "id": "7249bf4b-821a-4b47-bae7-b7a2cb3d4031",
   "metadata": {},
   "outputs": [
    {
     "ename": "NameError",
     "evalue": "name 'islower' is not defined",
     "output_type": "error",
     "traceback": [
      "\u001b[1;31m---------------------------------------------------------------------------\u001b[0m",
      "\u001b[1;31mNameError\u001b[0m                                 Traceback (most recent call last)",
      "Cell \u001b[1;32mIn[26], line 2\u001b[0m\n\u001b[0;32m      1\u001b[0m name\u001b[38;5;241m=\u001b[39m(\u001b[38;5;124m\"\u001b[39m\u001b[38;5;124mpuni\u001b[39m\u001b[38;5;124m\"\u001b[39m,\u001b[38;5;241m20.00\u001b[39m,\u001b[38;5;124m\"\u001b[39m\u001b[38;5;124msumanth\u001b[39m\u001b[38;5;124m\"\u001b[39m,\u001b[38;5;241m60.00\u001b[39m)\n\u001b[1;32m----> 2\u001b[0m islower()\n",
      "\u001b[1;31mNameError\u001b[0m: name 'islower' is not defined"
     ]
    }
   ],
   "source": [
    "name=(\"puni\",20.00,\"sumanth\",60.00)"
   ]
  },
  {
   "cell_type": "code",
   "execution_count": 26,
   "id": "091481e1-00bc-41f2-a4cb-8812e15ffdc1",
   "metadata": {},
   "outputs": [
    {
     "ename": "NameError",
     "evalue": "name 'islower' is not defined",
     "output_type": "error",
     "traceback": [
      "\u001b[1;31m---------------------------------------------------------------------------\u001b[0m",
      "\u001b[1;31mNameError\u001b[0m                                 Traceback (most recent call last)",
      "Cell \u001b[1;32mIn[26], line 2\u001b[0m\n\u001b[0;32m      1\u001b[0m name\u001b[38;5;241m=\u001b[39m(\u001b[38;5;124m\"\u001b[39m\u001b[38;5;124mpuni\u001b[39m\u001b[38;5;124m\"\u001b[39m,\u001b[38;5;241m20.00\u001b[39m,\u001b[38;5;124m\"\u001b[39m\u001b[38;5;124msumanth\u001b[39m\u001b[38;5;124m\"\u001b[39m,\u001b[38;5;241m60.00\u001b[39m)\n\u001b[1;32m----> 2\u001b[0m islower()\n",
      "\u001b[1;31mNameError\u001b[0m: name 'islower' is not defined"
     ]
    }
   ],
   "source": [
    "name=(\"puni\",20.00,\"sumanth\",60.00)"
   ]
  },
  {
   "cell_type": "code",
   "execution_count": 2,
   "id": "029d93fb-5cad-4283-ac57-997b0e1350de",
   "metadata": {},
   "outputs": [
    {
     "data": {
      "text/plain": [
       "[1, 20, 20, 0, 'hello']"
      ]
     },
     "execution_count": 2,
     "metadata": {},
     "output_type": "execute_result"
    }
   ],
   "source": [
    "f"
   ]
  },
  {
   "cell_type": "code",
   "execution_count": 3,
   "id": "d66c49fd-56bf-463f-aac4-72275b5cf9d3",
   "metadata": {},
   "outputs": [
    {
     "data": {
      "text/plain": [
       "list"
      ]
     },
     "execution_count": 3,
     "metadata": {},
     "output_type": "execute_result"
    }
   ],
   "source": [
    "type(f)"
   ]
  },
  {
   "cell_type": "code",
   "execution_count": 5,
   "id": "bc4718c1-f50b-442a-a90e-d4842b319268",
   "metadata": {},
   "outputs": [
    {
     "data": {
      "text/plain": [
       "2"
      ]
     },
     "execution_count": 5,
     "metadata": {},
     "output_type": "execute_result"
    }
   ],
   "source": [
    "x=['sumantha','pramod','puneeth','sudeepa','puneeth']\n",
    "x.count('puneeth')"
   ]
  },
  {
   "cell_type": "code",
   "execution_count": 7,
   "id": "e5f28d13-f69b-4f2d-b72c-5b9c22e4082b",
   "metadata": {},
   "outputs": [
    {
     "data": {
      "text/plain": [
       "7"
      ]
     },
     "execution_count": 7,
     "metadata": {},
     "output_type": "execute_result"
    }
   ],
   "source": [
    "x=['sumantha','pramod','puneeth','sudeepa','puneeth']\n",
    "len('punneth')"
   ]
  },
  {
   "cell_type": "code",
   "execution_count": 12,
   "id": "249b75a2-1638-4419-95f3-70f043cb0918",
   "metadata": {},
   "outputs": [
    {
     "name": "stdout",
     "output_type": "stream",
     "text": [
      "3\n"
     ]
    }
   ],
   "source": [
    "x=[\"sumantha\",\"pramod\",\"puneeth\",\"sudeepa\",\"puneeth\",\"puneeth\"]\n",
    "b=0\n",
    "for i in x:\n",
    "    if i==\"puneeth\":\n",
    "        b=b+1\n",
    "print(b)\n"
   ]
  },
  {
   "cell_type": "code",
   "execution_count": 13,
   "id": "dc0ee26d-0606-4a6d-86e2-de671e20ef8b",
   "metadata": {},
   "outputs": [],
   "source": [
    "name=(\"puni\",20.00,\"sumanth\",60.00)"
   ]
  },
  {
   "cell_type": "code",
   "execution_count": 14,
   "id": "cb01f9eb-415d-4717-a619-82d8c4933c57",
   "metadata": {},
   "outputs": [
    {
     "data": {
      "text/plain": [
       "('puni', 20.0, 'sumanth', 60.0)"
      ]
     },
     "execution_count": 14,
     "metadata": {},
     "output_type": "execute_result"
    }
   ],
   "source": [
    "name"
   ]
  },
  {
   "cell_type": "code",
   "execution_count": 15,
   "id": "e334fd83-d139-4c78-9187-b7e8cf9ccca2",
   "metadata": {},
   "outputs": [
    {
     "data": {
      "text/plain": [
       "tuple"
      ]
     },
     "execution_count": 15,
     "metadata": {},
     "output_type": "execute_result"
    }
   ],
   "source": [
    "type(name)"
   ]
  },
  {
   "cell_type": "code",
   "execution_count": 40,
   "id": "5798c4d2-cad6-4b76-92b0-2fb55722cfc9",
   "metadata": {},
   "outputs": [
    {
     "name": "stdout",
     "output_type": "stream",
     "text": [
      "27.4\n"
     ]
    }
   ],
   "source": [
    "num=(27.4,40,405,46,45)\n",
    "smallest=num[0]\n",
    "for i in num:\n",
    "    if i<smallest:\n",
    "        smallest=i\n",
    "print(smallest)\n"
   ]
  },
  {
   "cell_type": "code",
   "execution_count": 41,
   "id": "24fb7a1a-2e21-4519-b64b-1330cc6ddf34",
   "metadata": {},
   "outputs": [
    {
     "name": "stdout",
     "output_type": "stream",
     "text": [
      "90\n"
     ]
    }
   ],
   "source": [
    "num=(12,34,56,78,90)\n",
    "largest=num[0]\n",
    "for i in num:\n",
    "    if i>largest:\n",
    "        largest=i\n",
    "print(largest)"
   ]
  },
  {
   "cell_type": "code",
   "execution_count": 43,
   "id": "64e8284c-804f-4afc-94a4-6cc441498777",
   "metadata": {},
   "outputs": [
    {
     "name": "stdout",
     "output_type": "stream",
     "text": [
      "4\n"
     ]
    }
   ],
   "source": [
    "name=(10,30,14,18,4)\n",
    "smallest=name[0]\n",
    "for i in name:\n",
    "    if i<smallest:\n",
    "        smallest=i\n",
    "print(smallest)"
   ]
  },
  {
   "cell_type": "code",
   "execution_count": null,
   "id": "3a1adb76-3092-4fc9-8045-8777a8adbc44",
   "metadata": {},
   "outputs": [],
   "source": []
  }
 ],
 "metadata": {
  "kernelspec": {
   "display_name": "Python 3 (ipykernel)",
   "language": "python",
   "name": "python3"
  },
  "language_info": {
   "codemirror_mode": {
    "name": "ipython",
    "version": 3
   },
   "file_extension": ".py",
   "mimetype": "text/x-python",
   "name": "python",
   "nbconvert_exporter": "python",
   "pygments_lexer": "ipython3",
   "version": "3.12.7"
  }
 },
 "nbformat": 4,
 "nbformat_minor": 5
}
